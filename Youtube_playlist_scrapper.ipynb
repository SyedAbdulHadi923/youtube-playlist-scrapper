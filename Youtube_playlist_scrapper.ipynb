{
  "nbformat": 4,
  "nbformat_minor": 0,
  "metadata": {
    "colab": {
      "provenance": []
    },
    "kernelspec": {
      "name": "python3",
      "display_name": "Python 3"
    },
    "language_info": {
      "name": "python"
    }
  },
  "cells": [
    {
      "cell_type": "code",
      "execution_count": null,
      "metadata": {
        "colab": {
          "base_uri": "https://localhost:8080/"
        },
        "id": "GW_BwjK4fl9s",
        "outputId": "c90b8aad-7430-4739-8f5c-db5690872262"
      },
      "outputs": [
        {
          "name": "stdout",
          "output_type": "stream",
          "text": [
            "Collecting youtube_dl\n",
            "  Downloading youtube_dl-2021.12.17-py2.py3-none-any.whl (1.9 MB)\n",
            "\u001b[?25l     \u001b[90m━━━━━━━━━━━━━━━━━━━━━━━━━━━━━━━━━━━━━━━━\u001b[0m \u001b[32m0.0/1.9 MB\u001b[0m \u001b[31m?\u001b[0m eta \u001b[36m-:--:--\u001b[0m\r\u001b[2K     \u001b[91m━━\u001b[0m\u001b[90m╺\u001b[0m\u001b[90m━━━━━━━━━━━━━━━━━━━━━━━━━━━━━━━━━━━━━\u001b[0m \u001b[32m0.1/1.9 MB\u001b[0m \u001b[31m3.3 MB/s\u001b[0m eta \u001b[36m0:00:01\u001b[0m\r\u001b[2K     \u001b[91m━━━━━━━━━━━━━━━━━━━━━\u001b[0m\u001b[91m╸\u001b[0m\u001b[90m━━━━━━━━━━━━━━━━━━\u001b[0m \u001b[32m1.0/1.9 MB\u001b[0m \u001b[31m14.8 MB/s\u001b[0m eta \u001b[36m0:00:01\u001b[0m\r\u001b[2K     \u001b[91m━━━━━━━━━━━━━━━━━━━━━━━━━━━━━━━━━━━━━━━\u001b[0m\u001b[91m╸\u001b[0m \u001b[32m1.9/1.9 MB\u001b[0m \u001b[31m23.3 MB/s\u001b[0m eta \u001b[36m0:00:01\u001b[0m\r\u001b[2K     \u001b[90m━━━━━━━━━━━━━━━━━━━━━━━━━━━━━━━━━━━━━━━━\u001b[0m \u001b[32m1.9/1.9 MB\u001b[0m \u001b[31m17.5 MB/s\u001b[0m eta \u001b[36m0:00:00\u001b[0m\n",
            "\u001b[?25hInstalling collected packages: youtube_dl\n",
            "Successfully installed youtube_dl-2021.12.17\n"
          ]
        }
      ],
      "source": [
        "pip install youtube_dl\n"
      ]
    },
    {
      "cell_type": "markdown",
      "source": [
        "# Make sure you copy the the first link of the video which have index then it will work"
      ],
      "metadata": {
        "id": "8RE5CJgNxxo6"
      }
    },
    {
      "cell_type": "code",
      "execution_count": null,
      "metadata": {
        "colab": {
          "base_uri": "https://localhost:8080/"
        },
        "id": "qT7nWrl8gSU7",
        "outputId": "46db287e-334a-4781-9d47-f9598b104b22"
      },
      "outputs": [
        {
          "name": "stdout",
          "output_type": "stream",
          "text": [
            "Enter the URL of the YouTube playlist: https://www.youtube.com/watch?v=xnJD09cPWD8&list=PLz-FHCtVMVtf8mZlNI-vFHHUBYunUSL39&index=1\n",
            "Clean links of videos in the playlist:\n",
            "https://www.youtube.com/watch?v=xnJD09cPWD8\n",
            "https://www.youtube.com/watch?v=X3YJ-Qeh8tI\n",
            "https://www.youtube.com/watch?v=_XhvTrZs74g\n",
            "https://www.youtube.com/watch?v=yseq-v9DFqg\n",
            "https://www.youtube.com/watch?v=Bv16yctXaFM\n",
            "https://www.youtube.com/watch?v=bc1S2uvc0Hk\n",
            "https://www.youtube.com/watch?v=2jW1batb_pM\n",
            "https://www.youtube.com/watch?v=8M9a9iHFczQ\n",
            "https://www.youtube.com/watch?v=SRrC67py-4E\n",
            "https://www.youtube.com/watch?v=7chfmZ469lE\n",
            "https://www.youtube.com/watch?v=qR3isRhTQFQ\n",
            "https://www.youtube.com/watch?v=ZKpqpBRVr8Y\n",
            "https://www.youtube.com/watch?v=D3YFkecPShw\n",
            "https://www.youtube.com/watch?v=OoLVo3snNA0\n",
            "https://www.youtube.com/watch?v=IgALIxU6Lxc\n",
            "https://www.youtube.com/watch?v=B7dDSHwFgKk\n",
            "https://www.youtube.com/watch?v=Nly_OdvORQY\n",
            "https://www.youtube.com/watch?v=NwLwbDLKMmY\n",
            "https://www.youtube.com/watch?v=WYPkv-UI1CQ\n",
            "https://www.youtube.com/watch?v=Oz3_3b06Kuk\n",
            "https://www.youtube.com/watch?v=Q5jrUg_kXjY\n",
            "https://www.youtube.com/watch?v=MxwBgum2Y5E\n",
            "https://www.youtube.com/watch?v=RQoNnleoKG4\n",
            "https://www.youtube.com/watch?v=eNtdwulKvVU\n",
            "https://www.youtube.com/watch?v=Z-tdpwWyFV0\n",
            "https://www.youtube.com/watch?v=ULjENLeiBBE\n",
            "https://www.youtube.com/watch?v=5YtYgjRit10\n",
            "https://www.youtube.com/watch?v=tBW-mD-P_I8\n",
            "https://www.youtube.com/watch?v=rsoNFSuBUWA\n",
            "https://www.youtube.com/watch?v=uH_Zm185vf4\n",
            "https://www.youtube.com/watch?v=E34Zt1cEpFA\n",
            "https://www.youtube.com/watch?v=oQSx0hfMHT0\n",
            "https://www.youtube.com/watch?v=B365giypZmw\n",
            "https://www.youtube.com/watch?v=gmkcGqZIZp8\n",
            "https://www.youtube.com/watch?v=ztUIjM1zuYA\n",
            "https://www.youtube.com/watch?v=tYmcYbswfJE\n",
            "https://www.youtube.com/watch?v=wtCyCoqYT4o\n",
            "https://www.youtube.com/watch?v=jH2Gp_FjGFE\n",
            "https://www.youtube.com/watch?v=2UBhHzY17tM\n",
            "https://www.youtube.com/watch?v=06T1ppx1w8s\n",
            "https://www.youtube.com/watch?v=3ygNKNaMv4c\n",
            "https://www.youtube.com/watch?v=AqixzdpJL4U\n",
            "https://www.youtube.com/watch?v=eSnkuWL25HA\n",
            "https://www.youtube.com/watch?v=mPcTXB_r73c\n",
            "https://www.youtube.com/watch?v=7d0QuOvG7y0\n",
            "https://www.youtube.com/watch?v=w-l-WCHlYBY\n",
            "https://www.youtube.com/watch?v=h_k8LsJDGlM\n",
            "https://www.youtube.com/watch?v=v2PaZ8Nl2T4\n",
            "https://www.youtube.com/watch?v=HLv654KoNZo\n",
            "https://www.youtube.com/watch?v=TNBJevKx_-s\n",
            "https://www.youtube.com/watch?v=OpzH1hPvf38\n"
          ]
        }
      ],
      "source": [
        "import youtube_dl\n",
        "from urllib.parse import urlparse, parse_qs\n",
        "\n",
        "def fetch_playlist_videos(playlist_url):\n",
        "    query = urlparse(playlist_url)\n",
        "    if query.hostname == 'www.youtube.com' and query.path == '/watch':\n",
        "        playlist_id = parse_qs(query.query).get('list')\n",
        "        if playlist_id:\n",
        "            playlist_id = playlist_id[0]\n",
        "            playlist_url = f'https://www.youtube.com/playlist?list={playlist_id}'\n",
        "        else:\n",
        "            print(\"No playlist ID found in the URL.\")\n",
        "            return None\n",
        "    else:\n",
        "        print(\"Invalid YouTube playlist URL.\")\n",
        "        return None\n",
        "\n",
        "    ydl_opts = {\n",
        "        'quiet': True,\n",
        "        'extract_flat': True,\n",
        "        'force_generic_extractor': True,\n",
        "        'simulate': True,\n",
        "        'dump_single_json': True,\n",
        "        'flat_playlist': True,\n",
        "        'playlist_items': '1-1000',  # Adjust this range if you have playlists with more than 1000 videos\n",
        "    }\n",
        "\n",
        "    with youtube_dl.YoutubeDL(ydl_opts) as ydl:\n",
        "        try:\n",
        "            info_dict = ydl.extract_info(playlist_url, download=False)\n",
        "            videos = info_dict.get('entries')\n",
        "            if videos:\n",
        "                video_links = ['https://www.youtube.com/watch?v=' + video['id'] for video in videos]\n",
        "                return video_links\n",
        "            else:\n",
        "                print(\"No videos found in the playlist.\")\n",
        "                return None\n",
        "        except Exception as e:\n",
        "            print(\"Error:\", e)\n",
        "            return None\n",
        "\n",
        "if __name__ == \"__main__\":\n",
        "    playlist_url = input(\"Enter the URL of the YouTube playlist: \")\n",
        "    video_links = fetch_playlist_videos(playlist_url)\n",
        "\n",
        "    if video_links:\n",
        "        print(\"Clean links of videos in the playlist:\")\n",
        "        for link in video_links:\n",
        "            print(link)\n",
        "    else:\n",
        "        print(\"Failed to fetch videos from the playlist.\")\n"
      ]
    }
  ]
}